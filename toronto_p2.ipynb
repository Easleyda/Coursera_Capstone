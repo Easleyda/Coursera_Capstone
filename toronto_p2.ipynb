{
 "cells": [
  {
   "cell_type": "markdown",
   "metadata": {},
   "source": [
    "### Toronto Part 2\n",
    "\n",
    "This is the second part of a 3-part lab on: **Segmenting and Clustering Neighborhoods in Toronto**\n",
    "\n",
    "To start this part of the notebook we will read the 'toronto_postcode.csv' from part 1"
   ]
  },
  {
   "cell_type": "code",
   "execution_count": 1,
   "metadata": {},
   "outputs": [],
   "source": [
    "# Use Geocoder Python\n",
    "import geocoder\n",
    "import pandas as pd\n"
   ]
  },
  {
   "cell_type": "markdown",
   "metadata": {},
   "source": [
    "Define a function to extract the Latitude and Longitude from the geocoder response"
   ]
  },
  {
   "cell_type": "code",
   "execution_count": 2,
   "metadata": {},
   "outputs": [],
   "source": [
    "def get_coords(pc):\n",
    "    lat_lng_coords = None\n",
    "\n",
    "    while (lat_lng_coords is None):\n",
    "        print('Looking for {}'.format(pc))\n",
    "        g = geocoder.arcgis('{}, Toronto, Ontario'.format(pc))\n",
    "        lat_lng_coords = g.latlng\n",
    "\n",
    "    return pd.Series([lat_lng_coords[0], lat_lng_coords[1]], index=['Latitude', 'Longitude'])"
   ]
  },
  {
   "cell_type": "markdown",
   "metadata": {},
   "source": [
    "Read our data file from Part 1"
   ]
  },
  {
   "cell_type": "code",
   "execution_count": 3,
   "metadata": {},
   "outputs": [
    {
     "name": "stdout",
     "output_type": "stream",
     "text": [
      "Initial shape: (103, 3)\n"
     ]
    },
    {
     "data": {
      "text/html": [
       "<div>\n",
       "<style scoped>\n",
       "    .dataframe tbody tr th:only-of-type {\n",
       "        vertical-align: middle;\n",
       "    }\n",
       "\n",
       "    .dataframe tbody tr th {\n",
       "        vertical-align: top;\n",
       "    }\n",
       "\n",
       "    .dataframe thead th {\n",
       "        text-align: right;\n",
       "    }\n",
       "</style>\n",
       "<table border=\"1\" class=\"dataframe\">\n",
       "  <thead>\n",
       "    <tr style=\"text-align: right;\">\n",
       "      <th></th>\n",
       "      <th>Postcode</th>\n",
       "      <th>Borough</th>\n",
       "      <th>Neighbourhood</th>\n",
       "    </tr>\n",
       "  </thead>\n",
       "  <tbody>\n",
       "    <tr>\n",
       "      <th>0</th>\n",
       "      <td>M1B</td>\n",
       "      <td>Scarborough</td>\n",
       "      <td>Rouge,Malvern</td>\n",
       "    </tr>\n",
       "    <tr>\n",
       "      <th>1</th>\n",
       "      <td>M1C</td>\n",
       "      <td>Scarborough</td>\n",
       "      <td>Highland Creek,Rouge Hill,Port Union</td>\n",
       "    </tr>\n",
       "    <tr>\n",
       "      <th>2</th>\n",
       "      <td>M1E</td>\n",
       "      <td>Scarborough</td>\n",
       "      <td>Guildwood,Morningside,West Hill</td>\n",
       "    </tr>\n",
       "    <tr>\n",
       "      <th>3</th>\n",
       "      <td>M1G</td>\n",
       "      <td>Scarborough</td>\n",
       "      <td>Woburn</td>\n",
       "    </tr>\n",
       "    <tr>\n",
       "      <th>4</th>\n",
       "      <td>M1H</td>\n",
       "      <td>Scarborough</td>\n",
       "      <td>Cedarbrae</td>\n",
       "    </tr>\n",
       "  </tbody>\n",
       "</table>\n",
       "</div>"
      ],
      "text/plain": [
       "  Postcode      Borough                         Neighbourhood\n",
       "0      M1B  Scarborough                         Rouge,Malvern\n",
       "1      M1C  Scarborough  Highland Creek,Rouge Hill,Port Union\n",
       "2      M1E  Scarborough       Guildwood,Morningside,West Hill\n",
       "3      M1G  Scarborough                                Woburn\n",
       "4      M1H  Scarborough                             Cedarbrae"
      ]
     },
     "execution_count": 3,
     "metadata": {},
     "output_type": "execute_result"
    }
   ],
   "source": [
    "# Define the columns we want from the CSV\n",
    "cols = ['Postcode', 'Borough', 'Neighbourhood']\n",
    "\n",
    "# Read our CSV from part 1\n",
    "df_toronto = pd.read_csv('toronto_postal.csv', usecols = cols)\n",
    "\n",
    "print('Initial shape: {}'.format(df_toronto.shape))\n",
    "df_toronto.head()"
   ]
  },
  {
   "cell_type": "markdown",
   "metadata": {},
   "source": [
    "Get the Latitude and Longitude from geocoder using our get_coords() function.\n",
    "Merge the columns to the existing dataframe."
   ]
  },
  {
   "cell_type": "code",
   "execution_count": 4,
   "metadata": {},
   "outputs": [
    {
     "name": "stdout",
     "output_type": "stream",
     "text": [
      "Looking for M1B\n",
      "Looking for M1C\n",
      "Looking for M1E\n",
      "Looking for M1G\n",
      "Looking for M1H\n",
      "Looking for M1J\n",
      "Looking for M1K\n",
      "Looking for M1L\n",
      "Looking for M1M\n",
      "Looking for M1N\n",
      "Looking for M1P\n",
      "Looking for M1R\n",
      "Looking for M1S\n",
      "Looking for M1T\n",
      "Looking for M1V\n",
      "Looking for M1W\n",
      "Looking for M1X\n",
      "Looking for M2H\n",
      "Looking for M2J\n",
      "Looking for M2K\n",
      "Looking for M2L\n",
      "Looking for M2M\n",
      "Looking for M2N\n",
      "Looking for M2P\n",
      "Looking for M2R\n",
      "Looking for M3A\n",
      "Looking for M3B\n",
      "Looking for M3C\n",
      "Looking for M3H\n",
      "Looking for M3J\n",
      "Looking for M3K\n",
      "Looking for M3L\n",
      "Looking for M3M\n",
      "Looking for M3N\n",
      "Looking for M4A\n",
      "Looking for M4B\n",
      "Looking for M4C\n",
      "Looking for M4E\n",
      "Looking for M4G\n",
      "Looking for M4H\n",
      "Looking for M4J\n",
      "Looking for M4K\n",
      "Looking for M4L\n",
      "Looking for M4M\n",
      "Looking for M4N\n",
      "Looking for M4P\n",
      "Looking for M4R\n",
      "Looking for M4S\n",
      "Looking for M4T\n",
      "Looking for M4V\n",
      "Looking for M4W\n",
      "Looking for M4X\n",
      "Looking for M4Y\n",
      "Looking for M5A\n",
      "Looking for M5B\n",
      "Looking for M5C\n",
      "Looking for M5E\n",
      "Looking for M5G\n",
      "Looking for M5H\n",
      "Looking for M5J\n",
      "Looking for M5K\n",
      "Looking for M5L\n",
      "Looking for M5M\n",
      "Looking for M5N\n",
      "Looking for M5P\n",
      "Looking for M5R\n",
      "Looking for M5S\n",
      "Looking for M5T\n",
      "Looking for M5V\n",
      "Looking for M5W\n",
      "Looking for M5X\n",
      "Looking for M6A\n",
      "Looking for M6B\n",
      "Looking for M6C\n",
      "Looking for M6E\n",
      "Looking for M6G\n",
      "Looking for M6H\n",
      "Looking for M6J\n",
      "Looking for M6K\n",
      "Looking for M6L\n",
      "Looking for M6M\n",
      "Looking for M6N\n",
      "Looking for M6P\n",
      "Looking for M6R\n",
      "Looking for M6S\n",
      "Looking for M7A\n",
      "Looking for M7R\n",
      "Looking for M7Y\n",
      "Looking for M8V\n",
      "Looking for M8W\n",
      "Looking for M8X\n",
      "Looking for M8Y\n",
      "Looking for M8Z\n",
      "Looking for M9A\n",
      "Looking for M9B\n",
      "Looking for M9C\n",
      "Looking for M9L\n",
      "Looking for M9M\n",
      "Looking for M9N\n",
      "Looking for M9P\n",
      "Looking for M9R\n",
      "Looking for M9V\n",
      "Looking for M9W\n"
     ]
    }
   ],
   "source": [
    "# Get the Latitude and Longitude from geocoder\n",
    "df_toronto = df_toronto.merge(df_toronto['Postcode'].apply(lambda x: get_coords(x)), left_index=True, right_index=True)"
   ]
  },
  {
   "cell_type": "markdown",
   "metadata": {},
   "source": [
    "Check the new dataframe and confirm that we have the Latitude and Longitude data."
   ]
  },
  {
   "cell_type": "code",
   "execution_count": 5,
   "metadata": {},
   "outputs": [
    {
     "name": "stdout",
     "output_type": "stream",
     "text": [
      "After geocoder: (103, 5)\n"
     ]
    },
    {
     "data": {
      "text/html": [
       "<div>\n",
       "<style scoped>\n",
       "    .dataframe tbody tr th:only-of-type {\n",
       "        vertical-align: middle;\n",
       "    }\n",
       "\n",
       "    .dataframe tbody tr th {\n",
       "        vertical-align: top;\n",
       "    }\n",
       "\n",
       "    .dataframe thead th {\n",
       "        text-align: right;\n",
       "    }\n",
       "</style>\n",
       "<table border=\"1\" class=\"dataframe\">\n",
       "  <thead>\n",
       "    <tr style=\"text-align: right;\">\n",
       "      <th></th>\n",
       "      <th>Postcode</th>\n",
       "      <th>Borough</th>\n",
       "      <th>Neighbourhood</th>\n",
       "      <th>Latitude</th>\n",
       "      <th>Longitude</th>\n",
       "    </tr>\n",
       "  </thead>\n",
       "  <tbody>\n",
       "    <tr>\n",
       "      <th>0</th>\n",
       "      <td>M1B</td>\n",
       "      <td>Scarborough</td>\n",
       "      <td>Rouge,Malvern</td>\n",
       "      <td>43.811525</td>\n",
       "      <td>-79.195517</td>\n",
       "    </tr>\n",
       "    <tr>\n",
       "      <th>1</th>\n",
       "      <td>M1C</td>\n",
       "      <td>Scarborough</td>\n",
       "      <td>Highland Creek,Rouge Hill,Port Union</td>\n",
       "      <td>43.785730</td>\n",
       "      <td>-79.158750</td>\n",
       "    </tr>\n",
       "    <tr>\n",
       "      <th>2</th>\n",
       "      <td>M1E</td>\n",
       "      <td>Scarborough</td>\n",
       "      <td>Guildwood,Morningside,West Hill</td>\n",
       "      <td>43.765690</td>\n",
       "      <td>-79.175256</td>\n",
       "    </tr>\n",
       "    <tr>\n",
       "      <th>3</th>\n",
       "      <td>M1G</td>\n",
       "      <td>Scarborough</td>\n",
       "      <td>Woburn</td>\n",
       "      <td>43.768359</td>\n",
       "      <td>-79.217590</td>\n",
       "    </tr>\n",
       "    <tr>\n",
       "      <th>4</th>\n",
       "      <td>M1H</td>\n",
       "      <td>Scarborough</td>\n",
       "      <td>Cedarbrae</td>\n",
       "      <td>43.769688</td>\n",
       "      <td>-79.239440</td>\n",
       "    </tr>\n",
       "  </tbody>\n",
       "</table>\n",
       "</div>"
      ],
      "text/plain": [
       "  Postcode      Borough                         Neighbourhood   Latitude  \\\n",
       "0      M1B  Scarborough                         Rouge,Malvern  43.811525   \n",
       "1      M1C  Scarborough  Highland Creek,Rouge Hill,Port Union  43.785730   \n",
       "2      M1E  Scarborough       Guildwood,Morningside,West Hill  43.765690   \n",
       "3      M1G  Scarborough                                Woburn  43.768359   \n",
       "4      M1H  Scarborough                             Cedarbrae  43.769688   \n",
       "\n",
       "   Longitude  \n",
       "0 -79.195517  \n",
       "1 -79.158750  \n",
       "2 -79.175256  \n",
       "3 -79.217590  \n",
       "4 -79.239440  "
      ]
     },
     "execution_count": 5,
     "metadata": {},
     "output_type": "execute_result"
    }
   ],
   "source": [
    "# Did we get out Latitude and Longitude?\n",
    "print('After geocoder: {}'.format(df_toronto.shape))\n",
    "\n",
    "df_toronto.head()"
   ]
  },
  {
   "cell_type": "markdown",
   "metadata": {},
   "source": [
    "Save our data so that it can be used in part 3."
   ]
  },
  {
   "cell_type": "code",
   "execution_count": 6,
   "metadata": {},
   "outputs": [],
   "source": [
    "# Save the data for later use in the next part\n",
    "df_toronto.to_csv('toronto_postal_coords.csv')"
   ]
  },
  {
   "cell_type": "code",
   "execution_count": null,
   "metadata": {},
   "outputs": [],
   "source": []
  }
 ],
 "metadata": {
  "kernelspec": {
   "display_name": "Python 3",
   "language": "python",
   "name": "python3"
  },
  "language_info": {
   "codemirror_mode": {
    "name": "ipython",
    "version": 3
   },
   "file_extension": ".py",
   "mimetype": "text/x-python",
   "name": "python",
   "nbconvert_exporter": "python",
   "pygments_lexer": "ipython3",
   "version": "3.6.4"
  }
 },
 "nbformat": 4,
 "nbformat_minor": 2
}
